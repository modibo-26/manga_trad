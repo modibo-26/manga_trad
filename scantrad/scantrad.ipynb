{
  "nbformat": 4,
  "nbformat_minor": 0,
  "metadata": {
    "colab": {
      "provenance": [],
      "gpuType": "T4"
    },
    "kernelspec": {
      "name": "python3",
      "display_name": "Python 3"
    },
    "language_info": {
      "name": "python"
    },
    "accelerator": "GPU"
  },
  "cells": [
    {
      "cell_type": "code",
      "execution_count": null,
      "metadata": {
        "colab": {
          "base_uri": "https://localhost:8080/"
        },
        "id": "h0mho5IuzmGN",
        "outputId": "024638e1-9d59-4e8f-b937-d1037db9e4a0"
      },
      "outputs": [
        {
          "output_type": "stream",
          "name": "stdout",
          "text": [
            "GPU disponible\n"
          ]
        }
      ],
      "source": [
        "import torch\n",
        "print(\"GPU disponible\" if torch.cuda.is_available() else \"Aucun GPU détecté\")"
      ]
    },
    {
      "cell_type": "code",
      "source": [
        "!git clone https://github.com/ultralytics/yolov5  # Cloner YOLOv5\n",
        "%cd yolov5\n",
        "!pip install -r requirements.txt  # Installer les dépendances"
      ],
      "metadata": {
        "id": "jJTKfYGH36JO"
      },
      "execution_count": null,
      "outputs": []
    },
    {
      "cell_type": "code",
      "source": [
        "!unzip -q /content/scantrad.zip -d /content/scantrad"
      ],
      "metadata": {
        "id": "YKbIGgLq39W-"
      },
      "execution_count": null,
      "outputs": []
    },
    {
      "cell_type": "code",
      "source": [
        "!ls /content/scantrad"
      ],
      "metadata": {
        "colab": {
          "base_uri": "https://localhost:8080/"
        },
        "id": "jFZ3diPq5iN1",
        "outputId": "dc040fca-8a55-4426-a4d2-e9fa64b6c408"
      },
      "execution_count": null,
      "outputs": [
        {
          "output_type": "stream",
          "name": "stdout",
          "text": [
            "data.yaml  README.dataset.txt  README.roboflow.txt  test  train  valid\n"
          ]
        }
      ]
    },
    {
      "cell_type": "code",
      "source": [
        "!python train.py --img 640 --batch 16 --epochs 50 --data /content/scantrad/data.yaml --weights yolov5s.pt --device 0\n"
      ],
      "metadata": {
        "id": "6NljZhEf6CjJ"
      },
      "execution_count": null,
      "outputs": []
    },
    {
      "cell_type": "code",
      "source": [],
      "metadata": {
        "colab": {
          "base_uri": "https://localhost:8080/"
        },
        "id": "KT-QnaBz62Kh",
        "outputId": "b1cc1ef0-dd64-45a7-f3c2-d7d400c8f366"
      },
      "execution_count": null,
      "outputs": [
        {
          "output_type": "stream",
          "name": "stdout",
          "text": [
            "[Errno 2] No such file or directory: 'yolov5'\n",
            "/content/yolov5\n",
            "/content/yolov5\n"
          ]
        }
      ]
    },
    {
      "cell_type": "markdown",
      "source": [],
      "metadata": {
        "id": "h6GBWwiSBRct"
      }
    }
  ]
}